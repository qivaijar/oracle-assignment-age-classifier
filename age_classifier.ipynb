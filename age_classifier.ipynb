{
 "cells": [
  {
   "cell_type": "code",
   "execution_count": 22,
   "id": "65f78f23-496d-4068-8e63-eaaa399802b4",
   "metadata": {},
   "outputs": [],
   "source": [
    "# Download dataset\n",
    "import os\n",
    "import tarfile\n",
    "\n",
    "dataset_name = 'afad_dataset.tar.xz'\n",
    "\n",
    "if dataset_name not in os.listdir():\n",
    "    !git clone https://github.com/John-niu-07/tarball.git\n",
    "    !cat tarball/AFAD-Full.tar.xz* > {dataset_name}\n",
    "    !rm -rfv tarball\n",
    "    \n",
    "if 'AFAD-Full' not in os.listdir():\n",
    "    !tar -xf {dataset_name}\n",
    "    !rm {dataset_name}\n"
   ]
  },
  {
   "cell_type": "code",
   "execution_count": 25,
   "id": "6c239572-707a-4ec5-9ef8-81cce463b5f3",
   "metadata": {},
   "outputs": [
    {
     "name": "stdout",
     "output_type": "stream",
     "text": [
      "--2025-01-31 12:55:48--  https://github.com/Raschka-research-group/coral-cnn/blob/master/datasets/afad_train.csv\n",
      "Resolving github.com (github.com)... 20.205.243.166\n",
      "Connecting to github.com (github.com)|20.205.243.166|:443... connected.\n",
      "HTTP request sent, awaiting response... 200 OK\n",
      "Length: unspecified [text/html]\n",
      "Saving to: ‘afad_train.csv’\n",
      "\n",
      "afad_train.csv          [ <=>                ] 226.20K  --.-KB/s    in 0.08s   \n",
      "\n",
      "2025-01-31 12:55:49 (2.74 MB/s) - ‘afad_train.csv’ saved [231624]\n",
      "\n",
      "--2025-01-31 12:55:49--  https://github.com/Raschka-research-group/coral-cnn/blob/master/datasets/afad_test.csv\n",
      "20.205.243.166ub.com (github.com)... \n",
      "Connecting to github.com (github.com)|20.205.243.166|:443... connected.\n",
      "HTTP request sent, awaiting response... 200 OK\n",
      "Length: unspecified [text/html]\n",
      "Saving to: ‘afad_test.csv’\n",
      "\n",
      "afad_test.csv           [  <=>               ]   1.59M  7.86MB/s    in 0.2s    \n",
      "\n",
      "2025-01-31 12:55:50 (7.86 MB/s) - ‘afad_test.csv’ saved [1667045]\n",
      "\n",
      "--2025-01-31 12:55:50--  https://github.com/Raschka-research-group/coral-cnn/blob/master/datasets/afad_valid.csv\n",
      "Resolving github.com (github.com)... 20.205.243.166\n",
      "connected. to github.com (github.com)|20.205.243.166|:443... \n",
      "200 OKequest sent, awaiting response... \n",
      "Length: unspecified [text/html]\n",
      "Saving to: ‘afad_valid.csv’\n",
      "\n",
      "afad_valid.csv          [ <=>                ]   1.16M  7.29MB/s    in 0.2s    \n",
      "\n",
      "2025-01-31 12:55:51 (7.29 MB/s) - ‘afad_valid.csv’ saved [1219803]\n",
      "\n"
     ]
    }
   ],
   "source": [
    "# Download annotated metadata\n",
    "\n",
    "metadata_folder = 'metadata' \n",
    "\n",
    "if metadata_folder not in os.listdir():\n",
    "    !mkdir {metadata_folder}\n",
    "    \n",
    "if len(os.listdir(metadata_folder)) == 0:\n",
    "    !wget https://github.com/Raschka-research-group/coral-cnn/blob/master/datasets/afad_train.csv\n",
    "    !wget https://github.com/Raschka-research-group/coral-cnn/blob/master/datasets/afad_test.csv\n",
    "    !wget https://github.com/Raschka-research-group/coral-cnn/blob/master/datasets/afad_valid.csv\n",
    "    !mv *.csv {metadata_folder}"
   ]
  },
  {
   "cell_type": "code",
   "execution_count": null,
   "id": "af3564e8-ca76-48cc-9aae-8b0bd6b3a5d4",
   "metadata": {},
   "outputs": [],
   "source": [
    "# Analyze Train & Test set\n"
   ]
  }
 ],
 "metadata": {
  "kernelspec": {
   "display_name": "Python 3 (ipykernel)",
   "language": "python",
   "name": "python3"
  },
  "language_info": {
   "codemirror_mode": {
    "name": "ipython",
    "version": 3
   },
   "file_extension": ".py",
   "mimetype": "text/x-python",
   "name": "python",
   "nbconvert_exporter": "python",
   "pygments_lexer": "ipython3",
   "version": "3.10.12"
  }
 },
 "nbformat": 4,
 "nbformat_minor": 5
}
