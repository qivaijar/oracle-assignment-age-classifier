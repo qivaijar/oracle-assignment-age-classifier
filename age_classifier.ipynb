{
 "cells": [
  {
   "cell_type": "code",
   "execution_count": 1,
   "id": "65f78f23-496d-4068-8e63-eaaa399802b4",
   "metadata": {},
   "outputs": [],
   "source": [
    "# Download dataset\n",
    "import os\n",
    "import tarfile\n",
    "\n",
    "dataset_tar = 'afad.tar.xz'\n",
    "dataset_folder = 'AFAD-Full'\n",
    "\n",
    "if dataset_folder not in os.listdir():\n",
    "    !git clone https://github.com/John-niu-07/tarball.git\n",
    "    !cat tarball/AFAD-Full.tar.xz* > {dataset_tar}\n",
    "    !rm -rfv tarball\n",
    "    !tar -xf {dataset_tar}\n",
    "    !rm {dataset_tar}\n"
   ]
  },
  {
   "cell_type": "code",
   "execution_count": 2,
   "id": "6c239572-707a-4ec5-9ef8-81cce463b5f3",
   "metadata": {},
   "outputs": [
    {
     "name": "stderr",
     "output_type": "stream",
     "text": [
      "100%|██████████████████████████████████████████████████████████████████████████████████████████████████████████████████████████████████████████████████████| 63/63 [00:01<00:00, 31.95it/s]"
     ]
    },
    {
     "name": "stdout",
     "output_type": "stream",
     "text": [
      "['AFAD-Full/64/111/856714-0.jpg', 'AFAD-Full/64/111/855820-0.jpg', 'AFAD-Full/64/111/857361-0.jpg', 'AFAD-Full/64/111/857255-0.jpg', 'AFAD-Full/64/111/856548-0.jpg'] [64, 64, 64, 64, 64]\n"
     ]
    },
    {
     "name": "stderr",
     "output_type": "stream",
     "text": [
      "\n"
     ]
    }
   ],
   "source": [
    "# Dataset labelling\n",
    "from tqdm import tqdm\n",
    "\n",
    "filenames = []\n",
    "ages = []\n",
    "\n",
    "for age in tqdm(os.listdir(dataset_folder)):\n",
    "    if (age == 'AFAD-Full.txt') or (age == 'README.md'):\n",
    "        continue\n",
    "    \n",
    "    sub_folders = os.listdir(\n",
    "        os.path.join(\n",
    "            dataset_folder, age\n",
    "        )\n",
    "    )\n",
    "    for sf in sub_folders:\n",
    "        cur_folder = os.path.join(\n",
    "            dataset_folder, age, sf\n",
    "        )\n",
    "        for file in os.listdir(cur_folder):\n",
    "            filenames.append(\n",
    "                os.path.join(\n",
    "                    cur_folder, file\n",
    "                )\n",
    "            )\n",
    "            ages.append(int(age))\n",
    "\n",
    "print(filenames[:5], ages[:5])"
   ]
  },
  {
   "cell_type": "code",
   "execution_count": 3,
   "id": "af3564e8-ca76-48cc-9aae-8b0bd6b3a5d4",
   "metadata": {},
   "outputs": [
    {
     "data": {
      "text/html": [
       "<div>\n",
       "<style scoped>\n",
       "    .dataframe tbody tr th:only-of-type {\n",
       "        vertical-align: middle;\n",
       "    }\n",
       "\n",
       "    .dataframe tbody tr th {\n",
       "        vertical-align: top;\n",
       "    }\n",
       "\n",
       "    .dataframe thead th {\n",
       "        text-align: right;\n",
       "    }\n",
       "</style>\n",
       "<table border=\"1\" class=\"dataframe\">\n",
       "  <thead>\n",
       "    <tr style=\"text-align: right;\">\n",
       "      <th></th>\n",
       "      <th>image_path</th>\n",
       "      <th>age</th>\n",
       "    </tr>\n",
       "  </thead>\n",
       "  <tbody>\n",
       "    <tr>\n",
       "      <th>0</th>\n",
       "      <td>AFAD-Full/64/111/856714-0.jpg</td>\n",
       "      <td>64</td>\n",
       "    </tr>\n",
       "    <tr>\n",
       "      <th>1</th>\n",
       "      <td>AFAD-Full/64/111/855820-0.jpg</td>\n",
       "      <td>64</td>\n",
       "    </tr>\n",
       "    <tr>\n",
       "      <th>2</th>\n",
       "      <td>AFAD-Full/64/111/857361-0.jpg</td>\n",
       "      <td>64</td>\n",
       "    </tr>\n",
       "    <tr>\n",
       "      <th>3</th>\n",
       "      <td>AFAD-Full/64/111/857255-0.jpg</td>\n",
       "      <td>64</td>\n",
       "    </tr>\n",
       "    <tr>\n",
       "      <th>4</th>\n",
       "      <td>AFAD-Full/64/111/856548-0.jpg</td>\n",
       "      <td>64</td>\n",
       "    </tr>\n",
       "    <tr>\n",
       "      <th>...</th>\n",
       "      <td>...</td>\n",
       "      <td>...</td>\n",
       "    </tr>\n",
       "    <tr>\n",
       "      <th>165510</th>\n",
       "      <td>AFAD-Full/29/112/11946-0.jpg</td>\n",
       "      <td>29</td>\n",
       "    </tr>\n",
       "    <tr>\n",
       "      <th>165511</th>\n",
       "      <td>AFAD-Full/29/112/131797-1.jpg</td>\n",
       "      <td>29</td>\n",
       "    </tr>\n",
       "    <tr>\n",
       "      <th>165512</th>\n",
       "      <td>AFAD-Full/29/112/9525-0.jpg</td>\n",
       "      <td>29</td>\n",
       "    </tr>\n",
       "    <tr>\n",
       "      <th>165513</th>\n",
       "      <td>AFAD-Full/29/112/133678-0.jpg</td>\n",
       "      <td>29</td>\n",
       "    </tr>\n",
       "    <tr>\n",
       "      <th>165514</th>\n",
       "      <td>AFAD-Full/29/112/172168-0.jpg</td>\n",
       "      <td>29</td>\n",
       "    </tr>\n",
       "  </tbody>\n",
       "</table>\n",
       "<p>165515 rows × 2 columns</p>\n",
       "</div>"
      ],
      "text/plain": [
       "                           image_path  age\n",
       "0       AFAD-Full/64/111/856714-0.jpg   64\n",
       "1       AFAD-Full/64/111/855820-0.jpg   64\n",
       "2       AFAD-Full/64/111/857361-0.jpg   64\n",
       "3       AFAD-Full/64/111/857255-0.jpg   64\n",
       "4       AFAD-Full/64/111/856548-0.jpg   64\n",
       "...                               ...  ...\n",
       "165510   AFAD-Full/29/112/11946-0.jpg   29\n",
       "165511  AFAD-Full/29/112/131797-1.jpg   29\n",
       "165512    AFAD-Full/29/112/9525-0.jpg   29\n",
       "165513  AFAD-Full/29/112/133678-0.jpg   29\n",
       "165514  AFAD-Full/29/112/172168-0.jpg   29\n",
       "\n",
       "[165515 rows x 2 columns]"
      ]
     },
     "execution_count": 3,
     "metadata": {},
     "output_type": "execute_result"
    }
   ],
   "source": [
    "# Create pandas dataframe\n",
    "import pandas as pd\n",
    "\n",
    "dataframe = pd.DataFrame(\n",
    "    {\n",
    "    'image_path': filenames,\n",
    "    'age': ages\n",
    "}\n",
    ")\n",
    "dataframe"
   ]
  },
  {
   "cell_type": "code",
   "execution_count": 4,
   "id": "21828949-3723-4fa3-8ccc-7d5b40bbf4db",
   "metadata": {},
   "outputs": [
    {
     "data": {
      "text/html": [
       "<div>\n",
       "<style scoped>\n",
       "    .dataframe tbody tr th:only-of-type {\n",
       "        vertical-align: middle;\n",
       "    }\n",
       "\n",
       "    .dataframe tbody tr th {\n",
       "        vertical-align: top;\n",
       "    }\n",
       "\n",
       "    .dataframe thead th {\n",
       "        text-align: right;\n",
       "    }\n",
       "</style>\n",
       "<table border=\"1\" class=\"dataframe\">\n",
       "  <thead>\n",
       "    <tr style=\"text-align: right;\">\n",
       "      <th></th>\n",
       "      <th>image_path</th>\n",
       "      <th>age</th>\n",
       "      <th>label</th>\n",
       "    </tr>\n",
       "  </thead>\n",
       "  <tbody>\n",
       "    <tr>\n",
       "      <th>0</th>\n",
       "      <td>AFAD-Full/64/111/856714-0.jpg</td>\n",
       "      <td>64</td>\n",
       "      <td>1</td>\n",
       "    </tr>\n",
       "    <tr>\n",
       "      <th>1</th>\n",
       "      <td>AFAD-Full/64/111/855820-0.jpg</td>\n",
       "      <td>64</td>\n",
       "      <td>1</td>\n",
       "    </tr>\n",
       "    <tr>\n",
       "      <th>2</th>\n",
       "      <td>AFAD-Full/64/111/857361-0.jpg</td>\n",
       "      <td>64</td>\n",
       "      <td>1</td>\n",
       "    </tr>\n",
       "    <tr>\n",
       "      <th>3</th>\n",
       "      <td>AFAD-Full/64/111/857255-0.jpg</td>\n",
       "      <td>64</td>\n",
       "      <td>1</td>\n",
       "    </tr>\n",
       "    <tr>\n",
       "      <th>4</th>\n",
       "      <td>AFAD-Full/64/111/856548-0.jpg</td>\n",
       "      <td>64</td>\n",
       "      <td>1</td>\n",
       "    </tr>\n",
       "    <tr>\n",
       "      <th>...</th>\n",
       "      <td>...</td>\n",
       "      <td>...</td>\n",
       "      <td>...</td>\n",
       "    </tr>\n",
       "    <tr>\n",
       "      <th>165510</th>\n",
       "      <td>AFAD-Full/29/112/11946-0.jpg</td>\n",
       "      <td>29</td>\n",
       "      <td>1</td>\n",
       "    </tr>\n",
       "    <tr>\n",
       "      <th>165511</th>\n",
       "      <td>AFAD-Full/29/112/131797-1.jpg</td>\n",
       "      <td>29</td>\n",
       "      <td>1</td>\n",
       "    </tr>\n",
       "    <tr>\n",
       "      <th>165512</th>\n",
       "      <td>AFAD-Full/29/112/9525-0.jpg</td>\n",
       "      <td>29</td>\n",
       "      <td>1</td>\n",
       "    </tr>\n",
       "    <tr>\n",
       "      <th>165513</th>\n",
       "      <td>AFAD-Full/29/112/133678-0.jpg</td>\n",
       "      <td>29</td>\n",
       "      <td>1</td>\n",
       "    </tr>\n",
       "    <tr>\n",
       "      <th>165514</th>\n",
       "      <td>AFAD-Full/29/112/172168-0.jpg</td>\n",
       "      <td>29</td>\n",
       "      <td>1</td>\n",
       "    </tr>\n",
       "  </tbody>\n",
       "</table>\n",
       "<p>165515 rows × 3 columns</p>\n",
       "</div>"
      ],
      "text/plain": [
       "                           image_path  age  label\n",
       "0       AFAD-Full/64/111/856714-0.jpg   64      1\n",
       "1       AFAD-Full/64/111/855820-0.jpg   64      1\n",
       "2       AFAD-Full/64/111/857361-0.jpg   64      1\n",
       "3       AFAD-Full/64/111/857255-0.jpg   64      1\n",
       "4       AFAD-Full/64/111/856548-0.jpg   64      1\n",
       "...                               ...  ...    ...\n",
       "165510   AFAD-Full/29/112/11946-0.jpg   29      1\n",
       "165511  AFAD-Full/29/112/131797-1.jpg   29      1\n",
       "165512    AFAD-Full/29/112/9525-0.jpg   29      1\n",
       "165513  AFAD-Full/29/112/133678-0.jpg   29      1\n",
       "165514  AFAD-Full/29/112/172168-0.jpg   29      1\n",
       "\n",
       "[165515 rows x 3 columns]"
      ]
     },
     "execution_count": 4,
     "metadata": {},
     "output_type": "execute_result"
    }
   ],
   "source": [
    "# Create a label column\n",
    "\n",
    "def convert_label(age):\n",
    "    return 1 if int(age) >= 18 else 0\n",
    "\n",
    "dataframe['label'] = dataframe['age'].apply(convert_label)\n",
    "dataframe"
   ]
  },
  {
   "cell_type": "code",
   "execution_count": 5,
   "id": "151e6647-377e-43a4-aa9e-647a7b6d5ac9",
   "metadata": {},
   "outputs": [
    {
     "name": "stdout",
     "output_type": "stream",
     "text": [
      "label\n",
      "1    159359\n",
      "0      6156\n",
      "Name: count, dtype: int64\n"
     ]
    },
    {
     "data": {
      "text/plain": [
       "array([[<Axes: title={'center': 'age'}>,\n",
       "        <Axes: title={'center': 'label'}>]], dtype=object)"
      ]
     },
     "execution_count": 5,
     "metadata": {},
     "output_type": "execute_result"
    },
    {
     "data": {
      "image/png": "[encoded data removed]",
      "text/plain": [
       "<Figure size 640x480 with 2 Axes>"
      ]
     },
     "metadata": {},
     "output_type": "display_data"
    }
   ],
   "source": [
    "# Show label's histogram\n",
    "print(dataframe['label'].value_counts())\n",
    "dataframe.hist(grid=False)"
   ]
  },
  {
   "cell_type": "code",
   "execution_count": 6,
   "id": "e2c23ef6-6949-42e0-8359-916b5f9ee5ca",
   "metadata": {},
   "outputs": [
    {
     "name": "stdout",
     "output_type": "stream",
     "text": [
      "label\n",
      "0    6156\n",
      "1    6156\n",
      "Name: count, dtype: int64\n"
     ]
    },
    {
     "data": {
      "text/plain": [
       "array([[<Axes: title={'center': 'age'}>,\n",
       "        <Axes: title={'center': 'label'}>]], dtype=object)"
      ]
     },
     "execution_count": 6,
     "metadata": {},
     "output_type": "execute_result"
    },
    {
     "data": {
      "image/png": "[encoded data removed]",
      "text/plain": [
       "<Figure size 640x480 with 2 Axes>"
      ]
     },
     "metadata": {},
     "output_type": "display_data"
    }
   ],
   "source": [
    "# Undersampling\n",
    "total_per_label = dataframe['label'].value_counts().get(0)\n",
    "\n",
    "undersampled_dataframe = dataframe.groupby('label').sample(n=total_per_label)\n",
    "\n",
    "print(undersampled_dataframe['label'].value_counts())\n",
    "undersampled_dataframe.hist(grid=False)"
   ]
  },
  {
   "cell_type": "code",
   "execution_count": 7,
   "id": "8323892f-29dc-4659-b47b-ec88f1353a28",
   "metadata": {},
   "outputs": [
    {
     "data": {
      "image/png": "[encoded data removed]",
      "text/plain": [
       "<Figure size 1000x500 with 2 Axes>"
      ]
     },
     "metadata": {},
     "output_type": "display_data"
    }
   ],
   "source": [
    "# Display sample image\n",
    "import matplotlib.pyplot as plt\n",
    "from PIL import Image\n",
    "\n",
    "young_sample = undersampled_dataframe[undersampled_dataframe['age'] < 17].iloc[0]\n",
    "old_sample = undersampled_dataframe[undersampled_dataframe['age'] > 50].iloc[0]\n",
    "\n",
    "img_young = Image.open(young_sample.image_path)\n",
    "img_old = Image.open(old_sample.image_path)\n",
    "\n",
    "# Create a figure with two subplots (1 row, 2 columns)\n",
    "fig, axes = plt.subplots(1, 2, figsize=(10, 5))\n",
    "\n",
    "# Display first image\n",
    "axes[0].imshow(img_young)\n",
    "axes[0].axis(\"off\")  # Hide axes\n",
    "axes[0].set_title(\"Young person\")\n",
    "\n",
    "# Display second image\n",
    "axes[1].imshow(img_old)\n",
    "axes[1].axis(\"off\")\n",
    "axes[1].set_title(\"Old person\")\n",
    "\n",
    "# Adjust layout and show images\n",
    "plt.tight_layout()\n",
    "plt.show()"
   ]
  },
  {
   "cell_type": "code",
   "execution_count": 8,
   "id": "5a0d4979-9680-4ae0-8e6f-031e81639af6",
   "metadata": {},
   "outputs": [],
   "source": [
    "# remove 'age' column and reset index\n",
    "undersampled_dataframe.drop(columns=['age'], inplace=True)\n",
    "undersampled_dataframe.reset_index(drop=True, inplace=True)"
   ]
  },
  {
   "cell_type": "code",
   "execution_count": 9,
   "id": "7b1500c2-e75c-4a79-ba25-2bcbe8f5ac8b",
   "metadata": {},
   "outputs": [
    {
     "name": "stderr",
     "output_type": "stream",
     "text": [
      "\n",
      "KeyboardInterrupt\n",
      "\n"
     ]
    }
   ],
   "source": [
    "# Create a PyTorch data loader\n",
    "from torch.utils.data import Dataset, DataLoader\n",
    "from sklearn.model_selection import train_test_split\n",
    "from torchvision import transforms\n",
    "\n",
    "# Create a custom pytorch dataset\n",
    "class ImageDataset(Dataset):\n",
    "    def __init__(self, dataframe, image_size=224):\n",
    "        \"\"\"\n",
    "        Args:\n",
    "            dataframe (pd.DataFrame): Pandas DataFrame containing image paths and labels.\n",
    "            img_dir (str): Directory where images are stored.\n",
    "            transform (callable, optional): Optional transform to be applied on a sample.\n",
    "        \"\"\"\n",
    "        self.dataframe = dataframe\n",
    "        self.transform = transforms.Compose(\n",
    "            [transforms.Resize((image_size, image_size)),\n",
    "            transforms.ToTensor()]\n",
    "        )  \n",
    "\n",
    "    def __len__(self):\n",
    "        \"\"\"Return the total number of samples in the dataset.\"\"\"\n",
    "        return len(self.dataframe)\n",
    "\n",
    "    def __getitem__(self, idx):\n",
    "        \"\"\"Fetch a sample (image and label) from the dataset.\"\"\"\n",
    "        img_name = self.dataframe.iloc[idx, 0]  # image path column\n",
    "        label = self.dataframe.iloc[idx, 1]  # label column\n",
    "\n",
    "        # Open the image\n",
    "        image = Image.open(img_name).convert(\"RGB\")  # Convert to RGB\n",
    "\n",
    "        # Transform the image\n",
    "        image = self.transform(image)\n",
    "\n",
    "        return image, label\n",
    "\n",
    "\n",
    "train_df, test_df = train_test_split(undersampled_dataframe, test_size=0.2)\n",
    "\n",
    "train_dataset = ImageDataset(train_df)\n",
    "test_dataset = ImageDataset(test_df)\n",
    "\n",
    "train_loader = DataLoader(train_dataset, batch_size=32, shuffle=True)\n",
    "test_loader = DataLoader(test_dataset, batch_size=32, shuffle=True)"
   ]
  },
  {
   "cell_type": "code",
   "execution_count": null,
   "id": "2cc38442-3cef-4e88-9954-562a2fedb4b7",
   "metadata": {},
   "outputs": [],
   "source": [
    "# Check total training and testing dataset\n",
    "print(f\"Total samples for model training = {len(train_dataset)}\")\n",
    "print(f\"Total samples for model evaluation = {len(test_dataset)}\")"
   ]
  },
  {
   "cell_type": "code",
   "execution_count": null,
   "id": "5241c438-c26a-490b-972a-4cbd29619ad5",
   "metadata": {},
   "outputs": [],
   "source": [
    "# Define model and hyperparameters\n",
    "import torch.nn as nn\n",
    "from torchvision import models\n",
    "import torch.optim as optim\n",
    "\n",
    "\n",
    "class EfficientNetBinaryClassifier(nn.Module):\n",
    "    def __init__(self):\n",
    "        super(EfficientNetBinaryClassifier, self).__init__()\n",
    "        self.model = models.efficientnet_v2_l(pretrained=True)\n",
    "        self.model.classifier[1] = nn.Linear(self.model.classifier[1].in_features, 1)  # Change output to 1 neuron (binary classification)\n",
    "\n",
    "    def forward(self, x):\n",
    "        return torch.sigmoid(self.model(x))\n",
    "\n",
    "model = EfficientNetBinaryClassifier()\n",
    "\n",
    "\n",
    "criterion = nn.BCELoss()  # Binary Cross-Entropy Loss\n",
    "optimizer = optim.Adam(model.parameters(), lr=0.001)"
   ]
  },
  {
   "cell_type": "code",
   "execution_count": null,
   "id": "e9dcfca1-43e8-4969-a97c-40e712aa4295",
   "metadata": {},
   "outputs": [],
   "source": [
    "# Model training loop\n",
    "import torch\n",
    "\n",
    "num_epochs = 10\n",
    "\n",
    "for epoch in range(num_epochs):\n",
    "    model.train()\n",
    "    running_loss = 0.0\n",
    "    correct_predictions = 0\n",
    "    total_predictions = 0\n",
    "    \n",
    "    for images, labels in train_loader:\n",
    "        optimizer.zero_grad()\n",
    "        \n",
    "        # Forward pass\n",
    "        outputs = model(images)\n",
    "        loss = criterion(outputs.squeeze(), labels.float())\n",
    "        \n",
    "        # Backward pass and optimization\n",
    "        loss.backward()\n",
    "        optimizer.step()\n",
    "        \n",
    "        running_loss += loss.item()\n",
    "        \n",
    "        # Calculate accuracy\n",
    "        predicted = (outputs.squeeze() > 0.5).float()\n",
    "        correct_predictions += (predicted == labels).sum().item()\n",
    "        total_predictions += labels.size(0)\n",
    "    \n",
    "    epoch_loss = running_loss / len(train_loader)\n",
    "    epoch_accuracy = correct_predictions / total_predictions * 100\n",
    "    print(f\"Epoch [{epoch+1}/{num_epochs}], Loss: {epoch_loss:.4f}, Accuracy: {epoch_accuracy:.2f}%\")\n"
   ]
  }
 ],
 "metadata": {
  "kernelspec": {
   "display_name": "Python 3 (ipykernel)",
   "language": "python",
   "name": "python3"
  },
  "language_info": {
   "codemirror_mode": {
    "name": "ipython",
    "version": 3
   },
   "file_extension": ".py",
   "mimetype": "text/x-python",
   "name": "python",
   "nbconvert_exporter": "python",
   "pygments_lexer": "ipython3",
   "version": "3.10.12"
  }
 },
 "nbformat": 4,
 "nbformat_minor": 5
}
